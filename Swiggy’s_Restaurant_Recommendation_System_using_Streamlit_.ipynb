{
  "nbformat": 4,
  "nbformat_minor": 0,
  "metadata": {
    "colab": {
      "provenance": []
    },
    "kernelspec": {
      "name": "python3",
      "display_name": "Python 3"
    },
    "language_info": {
      "name": "python"
    }
  },
  "cells": [
    {
      "cell_type": "code",
      "execution_count": 3,
      "metadata": {
        "id": "SAq_XNWJ1JJy"
      },
      "outputs": [],
      "source": [
        "# recommendation_model.py\n",
        "\n",
        "import pandas as pd\n",
        "from sklearn.metrics.pairwise import cosine_similarity\n",
        "from sklearn.preprocessing import OneHotEncoder\n",
        "\n",
        "# Simulated Swiggy-style dataset\n",
        "data = pd.DataFrame({\n",
        "    'Restaurant Name': [\n",
        "        'Tandoori Treat', 'Pizza Palace', 'Sushi Zen', 'Curry Corner', 'Burger Hub',\n",
        "        'Noodle Nook', 'Biryani Bowl', 'Grill House', 'Vegan Vibes', 'Wrap World'\n",
        "    ],\n",
        "    'Cuisine': [\n",
        "        'North Indian', 'Italian', 'Japanese', 'Indian', 'American',\n",
        "        'Chinese', 'Indian', 'BBQ', 'Vegan', 'Mexican'\n",
        "    ],\n",
        "    'Location': [\n",
        "        'Bangalore', 'Bangalore', 'Mumbai', 'Delhi', 'Mumbai',\n",
        "        'Delhi', 'Chennai', 'Hyderabad', 'Bangalore', 'Chennai'\n",
        "    ],\n",
        "    'Rating': [4.2, 4.5, 4.0, 3.8, 4.1, 4.3, 3.9, 4.4, 4.6, 4.0],\n",
        "    'Price Range': ['Mid', 'High', 'High', 'Low', 'Mid', 'Mid', 'Low', 'High', 'Mid', 'Low']\n",
        "})\n",
        "\n",
        "# One-hot encode categorical features\n",
        "encoder = OneHotEncoder()\n",
        "encoded = encoder.fit_transform(data[['Cuisine', 'Location', 'Price Range']]).toarray()\n",
        "features = pd.DataFrame(encoded, columns=encoder.get_feature_names_out())\n",
        "\n",
        "# Add numeric feature\n",
        "features['Rating'] = data['Rating']\n",
        "\n",
        "# Compute cosine similarity matrix\n",
        "similarity_matrix = cosine_similarity(features)\n",
        "\n",
        "# Recommendation function\n",
        "def recommend(restaurant_name, top_n=3):\n",
        "    idx = data[data['Restaurant Name'] == restaurant_name].index[0]\n",
        "    sim_scores = list(enumerate(similarity_matrix[idx]))\n",
        "    sim_scores = sorted(sim_scores, key=lambda x: x[1], reverse=True)[1:top_n+1]\n",
        "    recommended_indices = [i[0] for i in sim_scores]\n",
        "    return data.iloc[recommended_indices][['Restaurant Name', 'Cuisine', 'Location', 'Rating']]\n"
      ]
    },
    {
      "cell_type": "code",
      "source": [
        "# app.py\n",
        "\n",
        "import streamlit as st\n",
        "from recommendation_model import data, recommend\n",
        "\n",
        "st.set_page_config(page_title=\"Swiggy Restaurant Recommender\", layout=\"centered\")\n",
        "\n",
        "st.title(\"Swiggy's Restaurant Recommendation System\")\n",
        "st.write(\"Select your favorite restaurant, and we'll recommend similar options.\")\n",
        "\n",
        "# Restaurant dropdown\n",
        "restaurant_name = st.selectbox(\"Choose a restaurant:\", data['Restaurant Name'].values)\n",
        "\n",
        "if st.button(\"Recommend Similar Restaurants\"):\n",
        "    st.subheader(\"🔍 Recommended Restaurants\")\n",
        "    recommendations = recommend(restaurant_name)\n",
        "    st.dataframe(recommendations.reset_index(drop=True))\n"
      ],
      "metadata": {
        "id": "WE7433VA1iel"
      },
      "execution_count": null,
      "outputs": []
    },
    {
      "cell_type": "code",
      "source": [
        "| Restaurant Name | Cuisine      | Location  | Rating |\n",
        "| --------------- | ------------ | --------- | ------ |\n",
        "| Sushi Zen       | Japanese     | Mumbai    | 4.0    |\n",
        "| Grill House     | BBQ          | Hyderabad | 4.4    |\n",
        "| Tandoori Treat  | North Indian | Bangalore | 4.2    |\n"
      ],
      "metadata": {
        "id": "V7TLRgXr1sf9"
      },
      "execution_count": null,
      "outputs": []
    }
  ]
}