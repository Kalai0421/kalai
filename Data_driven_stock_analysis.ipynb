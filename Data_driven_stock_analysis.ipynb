{
  "nbformat": 4,
  "nbformat_minor": 0,
  "metadata": {
    "colab": {
      "provenance": []
    },
    "kernelspec": {
      "name": "python3",
      "display_name": "Python 3"
    },
    "language_info": {
      "name": "python"
    }
  },
  "cells": [
    {
      "cell_type": "code",
      "source": [
        "import pandas as pd\n",
        "import yfinance as yf\n",
        "import matplotlib.pyplot as plt\n",
        "import seaborn as sns\n",
        "\n",
        "# Step 1: Download Stock Data\n",
        "def fetch_stock_data(ticker='AAPL', start='2022-01-01', end='2023-12-31'):\n",
        "    data = yf.download(ticker, start=start, end=end)\n",
        "    data.reset_index(inplace=True)\n",
        "    return data\n",
        "\n",
        "# Step 2: Clean Data\n",
        "def clean_data(data):\n",
        "    data = data.dropna()\n",
        "    data['Daily Return'] = data['Adj Close'].pct_change()\n",
        "    return data\n",
        "\n",
        "# Step 3: Basic Statistics\n",
        "def stock_statistics(data):\n",
        "    stats = {\n",
        "        'Mean Return': data['Daily Return'].mean(),\n",
        "        'Volatility': data['Daily Return'].std(),\n",
        "        'Max Close': data['Close'].max(),\n",
        "        'Min Close': data['Close'].min()\n",
        "    }\n",
        "    return pd.DataFrame(stats, index=[0])\n",
        "\n",
        "# Step 4: Visualization\n",
        "def visualize_data(data, ticker='AAPL'):\n",
        "    plt.figure(figsize=(12, 6))\n",
        "    plt.title(f\"{ticker} Closing Price\")\n",
        "    plt.plot(data['Date'], data['Close'], label='Close Price')\n",
        "    plt.xlabel(\"Date\")\n",
        "    plt.ylabel(\"Price ($)\")\n",
        "    plt.legend()\n",
        "    plt.grid(True)\n",
        "    plt.tight_layout()\n",
        "    plt.show()\n",
        "\n",
        "    plt.figure(figsize=(10, 4))\n",
        "    sns.histplot(data['Daily Return'].dropna(), bins=50, kde=True)\n",
        "    plt.title(f\"{ticker} Daily Return Distribution\")\n",
        "    plt.xlabel(\"Daily Return\")\n",
        "    plt.grid(True)\n",
        "    plt.tight_layout()\n",
        "    plt.show()\n",
        "\n",
        "# Run Everything\n",
        "if __name__ == \"__main__\":\n",
        "    ticker = 'AAPL'  # Apple Inc.\n",
        "    stock_data = fetch_stock_data(ticker)\n",
        "    cleaned_data = clean_data(stock_data)\n",
        "    stats = stock_statistics(cleaned_data)\n",
        "\n",
        "    print(f\"\\n Statistics for {ticker}:\\n\", stats)\n",
        "    visualize_data(cleaned_data, ticker)\n"
      ],
      "metadata": {
        "id": "en1Rop2PYYRE"
      },
      "execution_count": null,
      "outputs": []
    }
  ]
}