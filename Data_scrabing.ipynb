{
  "nbformat": 4,
  "nbformat_minor": 0,
  "metadata": {
    "colab": {
      "provenance": []
    },
    "kernelspec": {
      "name": "python3",
      "display_name": "Python 3"
    },
    "language_info": {
      "name": "python"
    }
  },
  "cells": [
    {
      "cell_type": "markdown",
      "source": [
        "# New Section"
      ],
      "metadata": {
        "id": "4LEZ8AkM8enp"
      }
    },
    {
      "cell_type": "code",
      "source": [
        "pip install selenium pandas matplotlib seaborn streamlit\n"
      ],
      "metadata": {
        "colab": {
          "base_uri": "https://localhost:8080/",
          "height": 1000
        },
        "collapsed": true,
        "id": "5QI3s_B-eKOj",
        "outputId": "951ec514-1f69-4a18-ba56-b92bbba64d30"
      },
      "execution_count": 6,
      "outputs": [
        {
          "output_type": "stream",
          "name": "stdout",
          "text": [
            "Collecting selenium\n",
            "  Downloading selenium-4.34.2-py3-none-any.whl.metadata (7.5 kB)\n",
            "Requirement already satisfied: pandas in /usr/local/lib/python3.11/dist-packages (2.2.2)\n",
            "Requirement already satisfied: matplotlib in /usr/local/lib/python3.11/dist-packages (3.10.0)\n",
            "Requirement already satisfied: seaborn in /usr/local/lib/python3.11/dist-packages (0.13.2)\n",
            "Collecting streamlit\n",
            "  Downloading streamlit-1.46.1-py3-none-any.whl.metadata (9.0 kB)\n",
            "Collecting urllib3~=2.5.0 (from urllib3[socks]~=2.5.0->selenium)\n",
            "  Downloading urllib3-2.5.0-py3-none-any.whl.metadata (6.5 kB)\n",
            "Collecting trio~=0.30.0 (from selenium)\n",
            "  Downloading trio-0.30.0-py3-none-any.whl.metadata (8.5 kB)\n",
            "Collecting trio-websocket~=0.12.2 (from selenium)\n",
            "  Downloading trio_websocket-0.12.2-py3-none-any.whl.metadata (5.1 kB)\n",
            "Requirement already satisfied: certifi>=2025.6.15 in /usr/local/lib/python3.11/dist-packages (from selenium) (2025.7.9)\n",
            "Requirement already satisfied: typing_extensions~=4.14.0 in /usr/local/lib/python3.11/dist-packages (from selenium) (4.14.1)\n",
            "Requirement already satisfied: websocket-client~=1.8.0 in /usr/local/lib/python3.11/dist-packages (from selenium) (1.8.0)\n",
            "Requirement already satisfied: numpy>=1.23.2 in /usr/local/lib/python3.11/dist-packages (from pandas) (2.0.2)\n",
            "Requirement already satisfied: python-dateutil>=2.8.2 in /usr/local/lib/python3.11/dist-packages (from pandas) (2.9.0.post0)\n",
            "Requirement already satisfied: pytz>=2020.1 in /usr/local/lib/python3.11/dist-packages (from pandas) (2025.2)\n",
            "Requirement already satisfied: tzdata>=2022.7 in /usr/local/lib/python3.11/dist-packages (from pandas) (2025.2)\n",
            "Requirement already satisfied: contourpy>=1.0.1 in /usr/local/lib/python3.11/dist-packages (from matplotlib) (1.3.2)\n",
            "Requirement already satisfied: cycler>=0.10 in /usr/local/lib/python3.11/dist-packages (from matplotlib) (0.12.1)\n",
            "Requirement already satisfied: fonttools>=4.22.0 in /usr/local/lib/python3.11/dist-packages (from matplotlib) (4.58.5)\n",
            "Requirement already satisfied: kiwisolver>=1.3.1 in /usr/local/lib/python3.11/dist-packages (from matplotlib) (1.4.8)\n",
            "Requirement already satisfied: packaging>=20.0 in /usr/local/lib/python3.11/dist-packages (from matplotlib) (24.2)\n",
            "Requirement already satisfied: pillow>=8 in /usr/local/lib/python3.11/dist-packages (from matplotlib) (11.2.1)\n",
            "Requirement already satisfied: pyparsing>=2.3.1 in /usr/local/lib/python3.11/dist-packages (from matplotlib) (3.2.3)\n",
            "Requirement already satisfied: altair<6,>=4.0 in /usr/local/lib/python3.11/dist-packages (from streamlit) (5.5.0)\n",
            "Requirement already satisfied: blinker<2,>=1.5.0 in /usr/local/lib/python3.11/dist-packages (from streamlit) (1.9.0)\n",
            "Requirement already satisfied: cachetools<7,>=4.0 in /usr/local/lib/python3.11/dist-packages (from streamlit) (5.5.2)\n",
            "Requirement already satisfied: click<9,>=7.0 in /usr/local/lib/python3.11/dist-packages (from streamlit) (8.2.1)\n",
            "Requirement already satisfied: protobuf<7,>=3.20 in /usr/local/lib/python3.11/dist-packages (from streamlit) (5.29.5)\n",
            "Requirement already satisfied: pyarrow>=7.0 in /usr/local/lib/python3.11/dist-packages (from streamlit) (18.1.0)\n",
            "Requirement already satisfied: requests<3,>=2.27 in /usr/local/lib/python3.11/dist-packages (from streamlit) (2.32.3)\n",
            "Requirement already satisfied: tenacity<10,>=8.1.0 in /usr/local/lib/python3.11/dist-packages (from streamlit) (8.5.0)\n",
            "Requirement already satisfied: toml<2,>=0.10.1 in /usr/local/lib/python3.11/dist-packages (from streamlit) (0.10.2)\n",
            "Collecting watchdog<7,>=2.1.5 (from streamlit)\n",
            "  Downloading watchdog-6.0.0-py3-none-manylinux2014_x86_64.whl.metadata (44 kB)\n",
            "\u001b[2K     \u001b[90m━━━━━━━━━━━━━━━━━━━━━━━━━━━━━━━━━━━━━━━━\u001b[0m \u001b[32m44.3/44.3 kB\u001b[0m \u001b[31m3.5 MB/s\u001b[0m eta \u001b[36m0:00:00\u001b[0m\n",
            "\u001b[?25hRequirement already satisfied: gitpython!=3.1.19,<4,>=3.0.7 in /usr/local/lib/python3.11/dist-packages (from streamlit) (3.1.44)\n",
            "Collecting pydeck<1,>=0.8.0b4 (from streamlit)\n",
            "  Downloading pydeck-0.9.1-py2.py3-none-any.whl.metadata (4.1 kB)\n",
            "Requirement already satisfied: tornado!=6.5.0,<7,>=6.0.3 in /usr/local/lib/python3.11/dist-packages (from streamlit) (6.4.2)\n",
            "Requirement already satisfied: jinja2 in /usr/local/lib/python3.11/dist-packages (from altair<6,>=4.0->streamlit) (3.1.6)\n",
            "Requirement already satisfied: jsonschema>=3.0 in /usr/local/lib/python3.11/dist-packages (from altair<6,>=4.0->streamlit) (4.24.0)\n",
            "Requirement already satisfied: narwhals>=1.14.2 in /usr/local/lib/python3.11/dist-packages (from altair<6,>=4.0->streamlit) (1.46.0)\n",
            "Requirement already satisfied: gitdb<5,>=4.0.1 in /usr/local/lib/python3.11/dist-packages (from gitpython!=3.1.19,<4,>=3.0.7->streamlit) (4.0.12)\n",
            "Requirement already satisfied: six>=1.5 in /usr/local/lib/python3.11/dist-packages (from python-dateutil>=2.8.2->pandas) (1.17.0)\n",
            "Requirement already satisfied: charset-normalizer<4,>=2 in /usr/local/lib/python3.11/dist-packages (from requests<3,>=2.27->streamlit) (3.4.2)\n",
            "Requirement already satisfied: idna<4,>=2.5 in /usr/local/lib/python3.11/dist-packages (from requests<3,>=2.27->streamlit) (3.10)\n",
            "Requirement already satisfied: attrs>=23.2.0 in /usr/local/lib/python3.11/dist-packages (from trio~=0.30.0->selenium) (25.3.0)\n",
            "Requirement already satisfied: sortedcontainers in /usr/local/lib/python3.11/dist-packages (from trio~=0.30.0->selenium) (2.4.0)\n",
            "Collecting outcome (from trio~=0.30.0->selenium)\n",
            "  Downloading outcome-1.3.0.post0-py2.py3-none-any.whl.metadata (2.6 kB)\n",
            "Requirement already satisfied: sniffio>=1.3.0 in /usr/local/lib/python3.11/dist-packages (from trio~=0.30.0->selenium) (1.3.1)\n",
            "Collecting wsproto>=0.14 (from trio-websocket~=0.12.2->selenium)\n",
            "  Downloading wsproto-1.2.0-py3-none-any.whl.metadata (5.6 kB)\n",
            "Requirement already satisfied: pysocks!=1.5.7,<2.0,>=1.5.6 in /usr/local/lib/python3.11/dist-packages (from urllib3[socks]~=2.5.0->selenium) (1.7.1)\n",
            "Requirement already satisfied: smmap<6,>=3.0.1 in /usr/local/lib/python3.11/dist-packages (from gitdb<5,>=4.0.1->gitpython!=3.1.19,<4,>=3.0.7->streamlit) (5.0.2)\n",
            "Requirement already satisfied: MarkupSafe>=2.0 in /usr/local/lib/python3.11/dist-packages (from jinja2->altair<6,>=4.0->streamlit) (3.0.2)\n",
            "Requirement already satisfied: jsonschema-specifications>=2023.03.6 in /usr/local/lib/python3.11/dist-packages (from jsonschema>=3.0->altair<6,>=4.0->streamlit) (2025.4.1)\n",
            "Requirement already satisfied: referencing>=0.28.4 in /usr/local/lib/python3.11/dist-packages (from jsonschema>=3.0->altair<6,>=4.0->streamlit) (0.36.2)\n",
            "Requirement already satisfied: rpds-py>=0.7.1 in /usr/local/lib/python3.11/dist-packages (from jsonschema>=3.0->altair<6,>=4.0->streamlit) (0.26.0)\n",
            "Requirement already satisfied: h11<1,>=0.9.0 in /usr/local/lib/python3.11/dist-packages (from wsproto>=0.14->trio-websocket~=0.12.2->selenium) (0.16.0)\n",
            "Downloading selenium-4.34.2-py3-none-any.whl (9.4 MB)\n",
            "\u001b[2K   \u001b[90m━━━━━━━━━━━━━━━━━━━━━━━━━━━━━━━━━━━━━━━━\u001b[0m \u001b[32m9.4/9.4 MB\u001b[0m \u001b[31m107.6 MB/s\u001b[0m eta \u001b[36m0:00:00\u001b[0m\n",
            "\u001b[?25hDownloading streamlit-1.46.1-py3-none-any.whl (10.1 MB)\n",
            "\u001b[2K   \u001b[90m━━━━━━━━━━━━━━━━━━━━━━━━━━━━━━━━━━━━━━━━\u001b[0m \u001b[32m10.1/10.1 MB\u001b[0m \u001b[31m112.7 MB/s\u001b[0m eta \u001b[36m0:00:00\u001b[0m\n",
            "\u001b[?25hDownloading pydeck-0.9.1-py2.py3-none-any.whl (6.9 MB)\n",
            "\u001b[2K   \u001b[90m━━━━━━━━━━━━━━━━━━━━━━━━━━━━━━━━━━━━━━━━\u001b[0m \u001b[32m6.9/6.9 MB\u001b[0m \u001b[31m102.0 MB/s\u001b[0m eta \u001b[36m0:00:00\u001b[0m\n",
            "\u001b[?25hDownloading trio-0.30.0-py3-none-any.whl (499 kB)\n",
            "\u001b[2K   \u001b[90m━━━━━━━━━━━━━━━━━━━━━━━━━━━━━━━━━━━━━━━━\u001b[0m \u001b[32m499.2/499.2 kB\u001b[0m \u001b[31m34.5 MB/s\u001b[0m eta \u001b[36m0:00:00\u001b[0m\n",
            "\u001b[?25hDownloading trio_websocket-0.12.2-py3-none-any.whl (21 kB)\n",
            "Downloading urllib3-2.5.0-py3-none-any.whl (129 kB)\n",
            "\u001b[2K   \u001b[90m━━━━━━━━━━━━━━━━━━━━━━━━━━━━━━━━━━━━━━━━\u001b[0m \u001b[32m129.8/129.8 kB\u001b[0m \u001b[31m10.0 MB/s\u001b[0m eta \u001b[36m0:00:00\u001b[0m\n",
            "\u001b[?25hDownloading watchdog-6.0.0-py3-none-manylinux2014_x86_64.whl (79 kB)\n",
            "\u001b[2K   \u001b[90m━━━━━━━━━━━━━━━━━━━━━━━━━━━━━━━━━━━━━━━━\u001b[0m \u001b[32m79.1/79.1 kB\u001b[0m \u001b[31m6.2 MB/s\u001b[0m eta \u001b[36m0:00:00\u001b[0m\n",
            "\u001b[?25hDownloading outcome-1.3.0.post0-py2.py3-none-any.whl (10 kB)\n",
            "Downloading wsproto-1.2.0-py3-none-any.whl (24 kB)\n",
            "Installing collected packages: wsproto, watchdog, urllib3, outcome, trio, pydeck, trio-websocket, selenium, streamlit\n",
            "  Attempting uninstall: urllib3\n",
            "    Found existing installation: urllib3 2.4.0\n",
            "    Uninstalling urllib3-2.4.0:\n",
            "      Successfully uninstalled urllib3-2.4.0\n",
            "Successfully installed outcome-1.3.0.post0 pydeck-0.9.1 selenium-4.34.2 streamlit-1.46.1 trio-0.30.0 trio-websocket-0.12.2 urllib3-2.5.0 watchdog-6.0.0 wsproto-1.2.0\n"
          ]
        },
        {
          "output_type": "display_data",
          "data": {
            "application/vnd.colab-display-data+json": {
              "pip_warning": {
                "packages": [
                  "urllib3"
                ]
              },
              "id": "3006a654a5124642835840f842d457a0"
            }
          },
          "metadata": {}
        }
      ]
    },
    {
      "cell_type": "code",
      "source": [
        "| Title                             | Year | Rating | Genre                        |\n",
        "| --------------------------------- | ---- | ------ | ---------------------------- |\n",
        "| Dune: Part Two                    | 2024 | 8.8    | Action, Adventure, Sci-Fi    |\n",
        "| The Fall Guy                      | 2024 | 7.2    | Action, Comedy               |\n",
        "| Furiosa: A Mad Max Saga           | 2024 | 7.6    | Action, Adventure, Sci-Fi    |\n",
        "| Inside Out 2                      | 2024 | 8.3    | Animation, Adventure, Comedy |\n",
        "| Civil War                         | 2024 | 7.1    | Action, Drama, Thriller      |\n",
        "| Kingdom of the Planet of the Apes | 2024 | 7.5    | Action, Adventure, Sci-Fi    |\n",
        "| Challengers                       | 2024 | 7.8    | Drama, Romance, Sport        |\n"
      ],
      "metadata": {
        "id": "ntksYxi4h8l7"
      },
      "execution_count": null,
      "outputs": []
    },
    {
      "cell_type": "code",
      "source": [
        "# data_analysis.py\n",
        "import pandas as pd\n",
        "\n",
        "df = pd.read_csv(\"imdb_2024.csv\")\n",
        "\n",
        "# Clean ratings\n",
        "df['Rating'] = df['Rating'].replace(\"N/A\", pd.NA)\n",
        "df['Rating'] = pd.to_numeric(df['Rating'])\n",
        "\n",
        "# Clean year (keep only digits)\n",
        "df['Year'] = df['Year'].str.extract(r'(\\d{4})').astype(int)\n",
        "\n",
        "# Split genres\n",
        "df['Genre'] = df['Genre'].str.split(',')\n",
        "\n",
        "# Explode genres for frequency\n",
        "genre_df = df.explode('Genre')\n",
        "genre_df['Genre'] = genre_df['Genre'].str.strip()\n",
        "\n",
        "# Save cleaned\n",
        "df.to_csv(\"imdb_2024_cleaned.csv\", index=False)\n",
        "print(\"Cleaned data saved.\")\n"
      ],
      "metadata": {
        "id": "ywBIquWehJPb"
      },
      "execution_count": null,
      "outputs": []
    },
    {
      "cell_type": "code",
      "source": [
        "# visualization.py\n",
        "import pandas as pd\n",
        "import matplotlib.pyplot as plt\n",
        "import seaborn as sns\n",
        "\n",
        "df = pd.read_csv(\"imdb_2024_cleaned.csv\")\n",
        "plt.figure(figsize=(10, 6))\n",
        "sns.histplot(df['Rating'].dropna(), bins=10, kde=True)\n",
        "plt.title(\"Distribution of IMDB Ratings (2024)\")\n",
        "plt.xlabel(\"Rating\")\n",
        "plt.ylabel(\"Frequency\")\n",
        "plt.savefig(\"rating_distribution.png\")\n",
        "plt.show()\n",
        "\n",
        "# Genre count\n",
        "genre_df = df.explode('Genre')\n",
        "genre_df['Genre'] = genre_df['Genre'].str.strip()\n",
        "genre_counts = genre_df['Genre'].value_counts()\n",
        "\n",
        "plt.figure(figsize=(12, 6))\n",
        "genre_counts.plot(kind='bar', color='skyblue')\n",
        "plt.title(\"Genre Frequency (Top 50 Movies of 2024)\")\n",
        "plt.xlabel(\"Genre\")\n",
        "plt.ylabel(\"Count\")\n",
        "plt.xticks(rotation=45)\n",
        "plt.tight_layout()\n",
        "plt.savefig(\"genre_frequency.png\")\n",
        "plt.show()\n"
      ],
      "metadata": {
        "id": "ob7SYVebhc6l"
      },
      "execution_count": null,
      "outputs": []
    },
    {
      "cell_type": "code",
      "source": [
        "# streamlit_app.py\n",
        "import streamlit as st\n",
        "import pandas as pd\n",
        "\n",
        "st.title(\"IMDB 2024 Movies Dashboard\")\n",
        "df = pd.read_csv(\"imdb_2024_cleaned.csv\")\n",
        "\n",
        "genre_list = sorted(set([g.strip() for sublist in df['Genre'].dropna().apply(eval) for g in sublist]))\n",
        "\n",
        "selected_genre = st.selectbox(\"Select Genre\", genre_list)\n",
        "\n",
        "# Filter by genre\n",
        "filtered_df = df[df['Genre'].apply(lambda x: selected_genre in eval(x) if pd.notna(x) else False)]\n",
        "\n",
        "st.subheader(f\"Movies in Genre: {selected_genre}\")\n",
        "st.dataframe(filtered_df[['Title', 'Rating', 'Year']].sort_values(by='Rating', ascending=False))\n",
        "\n",
        "st.subheader(\" Rating Distribution\")\n",
        "st.bar_chart(filtered_df['Rating'].value_counts().sort_index())\n",
        "\n",
        "st.subheader(\" Year Distribution\")\n",
        "st.bar_chart(filtered_df['Year'].value_counts().sort_index())\n"
      ],
      "metadata": {
        "id": "W-29ONnzhgVD"
      },
      "execution_count": null,
      "outputs": []
    },
    {
      "cell_type": "code",
      "source": [
        "| Title                   | Rating | Year |\n",
        "| ----------------------- | ------ | ---- |\n",
        "| Dune: Part Two          | 8.8    | 2024 |\n",
        "| Furiosa: A Mad Max Saga | 7.6    | 2024 |\n",
        "| Civil War               | 7.1    | 2024 |\n"
      ],
      "metadata": {
        "id": "T4rm7RMNhvci"
      },
      "execution_count": null,
      "outputs": []
    },
    {
      "cell_type": "code",
      "source": [
        "from bs4 import BeautifulSoup\n",
        "import requests\n",
        "import pandas as pd\n",
        "import numpy as np"
      ],
      "metadata": {
        "id": "CT_8DndKjB8C"
      },
      "execution_count": 10,
      "outputs": []
    },
    {
      "cell_type": "code",
      "source": [
        "response = requests.get(url)\n",
        "soup = BeautifulSoup(response.content,'html.parser')"
      ],
      "metadata": {
        "id": "WgFHZi7NjGIE"
      },
      "execution_count": 20,
      "outputs": []
    },
    {
      "cell_type": "code",
      "source": [
        "movie_data = soup.findAll('div',attrs = {'class':'lister-item mode-advanced'})"
      ],
      "metadata": {
        "colab": {
          "base_uri": "https://localhost:8080/"
        },
        "id": "ik2rRL59i2W7",
        "outputId": "88158525-eeb3-4211-9577-0f67f0feedb4"
      },
      "execution_count": 21,
      "outputs": [
        {
          "output_type": "stream",
          "name": "stderr",
          "text": [
            "/tmp/ipython-input-21-927817839.py:1: DeprecationWarning: Call to deprecated method findAll. (Replaced by find_all) -- Deprecated since version 4.0.0.\n",
            "  movie_data = soup.findAll('div',attrs = {'class':'lister-item mode-advanced'})\n"
          ]
        }
      ]
    },
    {
      "cell_type": "code",
      "source": [
        "movie_name = []\n",
        "year = []\n",
        "time = []\n",
        "genre = []\n",
        "rating = []\n",
        "metascore = []\n",
        "director = []\n",
        "stars = []\n",
        "votes = []\n",
        "gross = []\n",
        "\n",
        "for data in movie_data:\n",
        "    name = data.h3.a.text\n",
        "    movie_name.append(name)\n",
        "\n",
        "    year1 = data.h3.find('span',attrs = {'class':'lister-item-year text-muted unbold'}).text.replace('(','').replace(')','')\n",
        "    year.append(year1)\n",
        "\n",
        "    time1 = data.p.find('span',attrs = {'class': 'runtime'}).text.replace(' min','')\n",
        "    time.append(time1)\n",
        "\n",
        "    genre1 = data.p.find('span',attrs = {'class': 'genre'}).text.replace('\\n','').replace(' ','')\n",
        "    genre.append(genre1)\n",
        "\n",
        "    rating1 = data.find('div',attrs = {'class': 'inline-block ratings-imdb-rating'}).text.replace('\\n','')\n",
        "    rating.append(rating1)\n",
        "\n",
        "    meta = data.find('span', attrs = {'class': 'metascore'}).text.replace(' ','') if data.find('span',attrs = {'class': 'metascore' }) else '###'\n",
        "    metascore.append(meta)\n",
        "\n",
        "    director1 = data.find('p',attrs = {'class': ''}).a.text\n",
        "    director.append(director1)\n",
        "\n",
        "    stars1 = data.find('p',attrs = {'class': ''}).text.replace('\\n','').replace(' ','').replace('|',',').split(',')[1:]\n",
        "    stars1 = ','.join(stars1).replace('Stars:','')\n",
        "    stars.append(stars1)\n",
        "\n",
        "    values = data.findAll('span',attrs = {'name': 'nv'})\n",
        "\n",
        "    votes1 = values[0].text.replace(',','')\n",
        "    votes.append(votes1)\n",
        "\n",
        "    gross1 = values[1].text.replace('$','').replace('M','') if len(values)==3 else '!!!!!!!!!'\n",
        "    gross.append(gross1)\n",
        ""
      ],
      "metadata": {
        "id": "p5TFKoNUi3Jx"
      },
      "execution_count": 22,
      "outputs": []
    }
  ]
}